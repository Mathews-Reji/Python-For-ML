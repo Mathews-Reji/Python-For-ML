{
 "cells": [
  {
   "cell_type": "markdown",
   "id": "f6c5bf90-6441-46e6-b5b2-b5c799baea65",
   "metadata": {},
   "source": [
    "# Basics of `Python` Programming\n",
    "\n",
    "In this notebbok we will explain basic `PYTHON` for machine learning."
   ]
  },
  {
   "cell_type": "markdown",
   "id": "e74b8edd-ea2b-4bcd-9455-ff019e08838e",
   "metadata": {},
   "source": [
    "## Derived Data Types in `Python`"
   ]
  },
  {
   "cell_type": "markdown",
   "id": "31e10d18-1eb0-4389-8696-1fa24130f3d9",
   "metadata": {},
   "source": [
    ">**NOTE:** In Python `int`,`float`,`str` etc are atomic data types and no declaration is required."
   ]
  },
  {
   "cell_type": "code",
   "execution_count": 1,
   "id": "77596704-72c4-4eac-b5d4-46261c8a9148",
   "metadata": {},
   "outputs": [],
   "source": [
    "my_list=[1,2,3]"
   ]
  },
  {
   "cell_type": "code",
   "execution_count": 2,
   "id": "cd5bdb42-a5b8-4e20-af05-5cac90bb8ae1",
   "metadata": {},
   "outputs": [
    {
     "data": {
      "text/plain": [
       "[1, 2, 3]"
      ]
     },
     "execution_count": 2,
     "metadata": {},
     "output_type": "execute_result"
    }
   ],
   "source": [
    "my_list"
   ]
  },
  {
   "cell_type": "code",
   "execution_count": 4,
   "id": "a5b44c41-6be4-4111-bed7-347e71b82c81",
   "metadata": {},
   "outputs": [],
   "source": [
    "my_list=[1,'a',2,'b',3,'c']"
   ]
  },
  {
   "cell_type": "code",
   "execution_count": 5,
   "id": "0af97710-5152-4db8-854f-671443118517",
   "metadata": {},
   "outputs": [
    {
     "data": {
      "text/plain": [
       "[1, 'a', 2, 'b', 3, 'c']"
      ]
     },
     "execution_count": 5,
     "metadata": {},
     "output_type": "execute_result"
    }
   ],
   "source": [
    "my_list"
   ]
  },
  {
   "cell_type": "code",
   "execution_count": 6,
   "id": "08ac9cb9-bf67-4ae4-bfe4-0b139fb49354",
   "metadata": {},
   "outputs": [
    {
     "data": {
      "text/plain": [
       "1"
      ]
     },
     "execution_count": 6,
     "metadata": {},
     "output_type": "execute_result"
    }
   ],
   "source": [
    "my_list[0]"
   ]
  },
  {
   "cell_type": "code",
   "execution_count": 7,
   "id": "bcdabfef-b51c-4f41-8409-9e077d94389d",
   "metadata": {},
   "outputs": [],
   "source": [
    "my_list=[1,2,[100,200]]"
   ]
  },
  {
   "cell_type": "code",
   "execution_count": 8,
   "id": "1039549c-fd2e-4412-b5b0-f6e712ca5be8",
   "metadata": {},
   "outputs": [
    {
     "data": {
      "text/plain": [
       "[1, 2, [100, 200]]"
      ]
     },
     "execution_count": 8,
     "metadata": {},
     "output_type": "execute_result"
    }
   ],
   "source": [
    "my_list"
   ]
  },
  {
   "cell_type": "code",
   "execution_count": 9,
   "id": "a52f76f3-17ed-41ff-8310-9b52e43a58e1",
   "metadata": {},
   "outputs": [
    {
     "data": {
      "text/plain": [
       "[100, 200]"
      ]
     },
     "execution_count": 9,
     "metadata": {},
     "output_type": "execute_result"
    }
   ],
   "source": [
    "my_list[2]"
   ]
  },
  {
   "cell_type": "code",
   "execution_count": 10,
   "id": "89997385-9316-4926-9b87-638b7ee3ce75",
   "metadata": {},
   "outputs": [
    {
     "data": {
      "text/plain": [
       "200"
      ]
     },
     "execution_count": 10,
     "metadata": {},
     "output_type": "execute_result"
    }
   ],
   "source": [
    "my_list[2][1]"
   ]
  },
  {
   "cell_type": "code",
   "execution_count": 11,
   "id": "5d61b16e-3cf7-4541-a565-5244ade64d0e",
   "metadata": {},
   "outputs": [],
   "source": [
    "my_list=['a','b','c','d']"
   ]
  },
  {
   "cell_type": "code",
   "execution_count": 12,
   "id": "7de29886-dedf-4b12-95ac-99324bcd2172",
   "metadata": {},
   "outputs": [
    {
     "data": {
      "text/plain": [
       "['a', 'b', 'c', 'd']"
      ]
     },
     "execution_count": 12,
     "metadata": {},
     "output_type": "execute_result"
    }
   ],
   "source": [
    "my_list"
   ]
  },
  {
   "cell_type": "code",
   "execution_count": 13,
   "id": "5d2cd582-e2e4-446a-95a2-7a70ce33d166",
   "metadata": {},
   "outputs": [
    {
     "data": {
      "text/plain": [
       "['a']"
      ]
     },
     "execution_count": 13,
     "metadata": {},
     "output_type": "execute_result"
    }
   ],
   "source": [
    "my_list[:1]"
   ]
  },
  {
   "cell_type": "code",
   "execution_count": 14,
   "id": "7e79f609-5994-4fda-8aac-4419c69329d9",
   "metadata": {},
   "outputs": [
    {
     "data": {
      "text/plain": [
       "['a', 'b']"
      ]
     },
     "execution_count": 14,
     "metadata": {},
     "output_type": "execute_result"
    }
   ],
   "source": [
    "my_list[:2]"
   ]
  },
  {
   "cell_type": "code",
   "execution_count": 15,
   "id": "c04ef5b4-1c57-47cc-aaed-a0e2e5949107",
   "metadata": {},
   "outputs": [],
   "source": [
    "my_list[0]=\"new\""
   ]
  },
  {
   "cell_type": "code",
   "execution_count": 16,
   "id": "32402143-ecb2-48e2-8ff3-4a697acafcd2",
   "metadata": {},
   "outputs": [
    {
     "data": {
      "text/plain": [
       "['new', 'b', 'c', 'd']"
      ]
     },
     "execution_count": 16,
     "metadata": {},
     "output_type": "execute_result"
    }
   ],
   "source": [
    "my_list"
   ]
  },
  {
   "cell_type": "code",
   "execution_count": 18,
   "id": "a3517750-e7bd-44c1-ba5c-77b93074522c",
   "metadata": {},
   "outputs": [],
   "source": [
    "my_list.append('e')"
   ]
  },
  {
   "cell_type": "code",
   "execution_count": 19,
   "id": "9bb438b7-8515-4553-9331-02d935d19399",
   "metadata": {},
   "outputs": [
    {
     "data": {
      "text/plain": [
       "['new', 'b', 'c', 'd', 'e']"
      ]
     },
     "execution_count": 19,
     "metadata": {},
     "output_type": "execute_result"
    }
   ],
   "source": [
    "my_list"
   ]
  },
  {
   "cell_type": "code",
   "execution_count": 20,
   "id": "9da5a1ba-48e1-4027-9220-7de1d4c0738b",
   "metadata": {},
   "outputs": [],
   "source": [
    "t=(1,2,3)"
   ]
  },
  {
   "cell_type": "code",
   "execution_count": 21,
   "id": "269ab77a-ed29-430a-bd03-fd25a190ea95",
   "metadata": {},
   "outputs": [
    {
     "data": {
      "text/plain": [
       "(1, 2, 3)"
      ]
     },
     "execution_count": 21,
     "metadata": {},
     "output_type": "execute_result"
    }
   ],
   "source": [
    "t"
   ]
  },
  {
   "cell_type": "code",
   "execution_count": 22,
   "id": "80de72d3-c036-418e-ad36-41fcf1a52f5c",
   "metadata": {},
   "outputs": [
    {
     "ename": "TypeError",
     "evalue": "'tuple' object does not support item assignment",
     "output_type": "error",
     "traceback": [
      "\u001b[0;31m---------------------------------------------------------------------------\u001b[0m",
      "\u001b[0;31mTypeError\u001b[0m                                 Traceback (most recent call last)",
      "Cell \u001b[0;32mIn[22], line 1\u001b[0m\n\u001b[0;32m----> 1\u001b[0m \u001b[43mt\u001b[49m\u001b[43m[\u001b[49m\u001b[38;5;241;43m0\u001b[39;49m\u001b[43m]\u001b[49m\u001b[38;5;241m=\u001b[39m\u001b[38;5;124m\"\u001b[39m\u001b[38;5;124mnew\u001b[39m\u001b[38;5;124m\"\u001b[39m\n",
      "\u001b[0;31mTypeError\u001b[0m: 'tuple' object does not support item assignment"
     ]
    }
   ],
   "source": [
    "t[0]=\"new\""
   ]
  },
  {
   "cell_type": "markdown",
   "id": "8b9688c5-6dae-4cfc-987a-bbd0e5041c76",
   "metadata": {},
   "source": [
    "**Tuple Is Immutable**"
   ]
  },
  {
   "cell_type": "code",
   "execution_count": 26,
   "id": "149766e1-c133-41e7-b93d-9918608f4034",
   "metadata": {},
   "outputs": [],
   "source": [
    "d={'Name':'Mathews','age': '20'}"
   ]
  },
  {
   "cell_type": "code",
   "execution_count": 27,
   "id": "a7fc9778-61ba-41aa-b8b9-09393ab105b0",
   "metadata": {},
   "outputs": [
    {
     "data": {
      "text/plain": [
       "{'Name': 'Mathews', 'age': '20'}"
      ]
     },
     "execution_count": 27,
     "metadata": {},
     "output_type": "execute_result"
    }
   ],
   "source": [
    "d"
   ]
  },
  {
   "cell_type": "code",
   "execution_count": 28,
   "id": "8c193cbe-c2ff-4c6e-8d8d-3d8df6b86278",
   "metadata": {},
   "outputs": [
    {
     "data": {
      "text/plain": [
       "'Mathews'"
      ]
     },
     "execution_count": 28,
     "metadata": {},
     "output_type": "execute_result"
    }
   ],
   "source": [
    "d['Name']"
   ]
  },
  {
   "cell_type": "code",
   "execution_count": 29,
   "id": "9954c976-d339-40b7-95c7-d2b114b56225",
   "metadata": {},
   "outputs": [
    {
     "data": {
      "text/plain": [
       "'20'"
      ]
     },
     "execution_count": 29,
     "metadata": {},
     "output_type": "execute_result"
    }
   ],
   "source": [
    "d['age']"
   ]
  },
  {
   "cell_type": "code",
   "execution_count": 30,
   "id": "1f554863-2e46-4aba-aa49-e8f4cb08c611",
   "metadata": {},
   "outputs": [
    {
     "data": {
      "text/plain": [
       "{1, 2, 3, 4}"
      ]
     },
     "execution_count": 30,
     "metadata": {},
     "output_type": "execute_result"
    }
   ],
   "source": [
    "{1,2,3,1,2,3,3,3,4,4,4,}"
   ]
  },
  {
   "cell_type": "code",
   "execution_count": 31,
   "id": "f7512cf0-0e49-4980-aa7a-8f4c174f954c",
   "metadata": {},
   "outputs": [],
   "source": [
    "def times2(var):\n",
    "    return var*2"
   ]
  },
  {
   "cell_type": "code",
   "execution_count": 33,
   "id": "b021f851-04ab-4d5e-9cea-531157a34d40",
   "metadata": {},
   "outputs": [
    {
     "data": {
      "text/plain": [
       "10"
      ]
     },
     "execution_count": 33,
     "metadata": {},
     "output_type": "execute_result"
    }
   ],
   "source": [
    "times2(5)"
   ]
  },
  {
   "cell_type": "markdown",
   "id": "cfffbdc3-c35f-4639-bbec-82a6937a53e4",
   "metadata": {},
   "source": [
    "Used For small specific programs and saves from memory allocation"
   ]
  },
  {
   "cell_type": "code",
   "execution_count": 34,
   "id": "422f67ed-245e-4677-9c97-bd6e483b51c9",
   "metadata": {},
   "outputs": [],
   "source": [
    "times2=lambda var:var*2"
   ]
  },
  {
   "cell_type": "code",
   "execution_count": 35,
   "id": "f548205f-0284-4aad-a775-3968419b2352",
   "metadata": {},
   "outputs": [
    {
     "name": "stdout",
     "output_type": "stream",
     "text": [
      "4\n"
     ]
    }
   ],
   "source": [
    "print(times2(2))"
   ]
  },
  {
   "cell_type": "code",
   "execution_count": 36,
   "id": "4cf6db9f-f243-4d7a-b8b9-4a4824ed5f9a",
   "metadata": {},
   "outputs": [],
   "source": [
    "x=[1,2,3,4]"
   ]
  },
  {
   "cell_type": "code",
   "execution_count": 37,
   "id": "d70a9ebb-3966-4803-a63f-53c03dd12c7a",
   "metadata": {},
   "outputs": [
    {
     "name": "stdout",
     "output_type": "stream",
     "text": [
      "[1, 4, 9, 16]\n"
     ]
    }
   ],
   "source": [
    "out=[]\n",
    "for item in x:\n",
    "    out.append(item**2)\n",
    "print(out)"
   ]
  },
  {
   "cell_type": "markdown",
   "id": "f2a4a677-debf-48af-9c94-3d2c88662a6f",
   "metadata": {},
   "source": [
    "**List Comprehension**"
   ]
  },
  {
   "cell_type": "code",
   "execution_count": 38,
   "id": "6a3a36f1-8746-41a0-baf7-f1da31db08bc",
   "metadata": {},
   "outputs": [
    {
     "data": {
      "text/plain": [
       "[1, 4, 9, 16]"
      ]
     },
     "execution_count": 38,
     "metadata": {},
     "output_type": "execute_result"
    }
   ],
   "source": [
    "[item**2 for item in x]"
   ]
  },
  {
   "cell_type": "markdown",
   "id": "43b518ec-65b6-468f-90e6-e8eed1f0d7b4",
   "metadata": {},
   "source": [
    "Using `.(dot)` function it follows the same indexing values, that is starting from 0"
   ]
  },
  {
   "cell_type": "code",
   "execution_count": 40,
   "id": "adc35c95-3c79-49ad-968f-4eaee1b86ef5",
   "metadata": {},
   "outputs": [
    {
     "name": "stdout",
     "output_type": "stream",
     "text": [
      "My Name is:Mathews,my number is i:10\n"
     ]
    }
   ],
   "source": [
    "print(\"My Name is:{0},my number is i:{1}\".format('Mathews',10))"
   ]
  },
  {
   "cell_type": "code",
   "execution_count": 41,
   "id": "4e995147-f809-43a5-a4cb-87dc952a0645",
   "metadata": {},
   "outputs": [],
   "source": [
    "num=12\n",
    "name='Sam'"
   ]
  },
  {
   "cell_type": "markdown",
   "id": "055459ff-c250-47a0-822e-0ead709f791e",
   "metadata": {},
   "source": [
    "In this method keywords are used to point to the variables that are to be required\n",
    "For example one points to num and two points to name"
   ]
  },
  {
   "cell_type": "code",
   "execution_count": 43,
   "id": "8b30264b-d7b4-4c0b-b7e4-011d19ac85cd",
   "metadata": {},
   "outputs": [
    {
     "name": "stdout",
     "output_type": "stream",
     "text": [
      "My Number Is 12,and my Name is Sam\n"
     ]
    }
   ],
   "source": [
    "print('My Number Is {one},and my Name is {two}'.format(one=num,two=name))"
   ]
  }
 ],
 "metadata": {
  "kernelspec": {
   "display_name": "Python 3 (Intel® oneAPI 2023.2)",
   "language": "python",
   "name": "c009-intel_distribution_of_python_3_oneapi-beta05-python"
  },
  "language_info": {
   "codemirror_mode": {
    "name": "ipython",
    "version": 3
   },
   "file_extension": ".py",
   "mimetype": "text/x-python",
   "name": "python",
   "nbconvert_exporter": "python",
   "pygments_lexer": "ipython3",
   "version": "3.9.16"
  }
 },
 "nbformat": 4,
 "nbformat_minor": 5
}
